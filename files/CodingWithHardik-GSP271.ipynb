{
 "cells": [
  {
   "cell_type": "code",
   "execution_count": null,
   "id": "32a086dd-225c-4e0f-ac7f-ca1c2145e513",
   "metadata": {},
   "outputs": [],
   "source": [
    "PROJECT=!gcloud config get-value project\n",
    "PROJECT=PROJECT[0]\n",
    "BUCKET = PROJECT + '-dsongcp'\n",
    "import os\n",
    "os.environ['BUCKET'] = PROJECT + '-dsongcp'"
   ]
  },
  {
   "cell_type": "code",
   "execution_count": null,
   "id": "316672e9-f2bc-4ce9-bb72-a3391393b338",
   "metadata": {},
   "outputs": [],
   "source": [
    "from pyspark.sql import SparkSession\n",
    "from pyspark import SparkContext\n",
    "sc = SparkContext('local', 'logistic')\n",
    "spark = SparkSession \\\n",
    "    .builder \\\n",
    "    .appName(\"Logistic regression w/ Spark ML\") \\\n",
    "    .getOrCreate()"
   ]
  },
  {
   "cell_type": "code",
   "execution_count": null,
   "id": "01a142cc-18f3-486d-9d3a-0f0c7e868689",
   "metadata": {},
   "outputs": [],
   "source": [
    "from pyspark.mllib.classification import LogisticRegressionWithLBFGS\n",
    "from pyspark.mllib.regression import LabeledPoint"
   ]
  },
  {
   "cell_type": "code",
   "execution_count": null,
   "id": "66f924e3-9eb2-4440-98a1-68730859152d",
   "metadata": {},
   "outputs": [],
   "source": [
    "traindays = spark.read \\\n",
    "    .option(\"header\", \"true\") \\\n",
    "    .csv('gs://{}/flights/trainday.csv'.format(BUCKET))\n",
    "traindays.createOrReplaceTempView('traindays')"
   ]
  },
  {
   "cell_type": "code",
   "execution_count": null,
   "id": "1fb66dbb-d384-4711-8453-09a302f0a744",
   "metadata": {},
   "outputs": [],
   "source": [
    "traindays.createOrReplaceTempView('traindays')"
   ]
  },
  {
   "cell_type": "code",
   "execution_count": null,
   "id": "f47d3306-f9ac-4cea-986a-6afd3a8f527e",
   "metadata": {},
   "outputs": [],
   "source": [
    "spark.sql(\"SELECT * from traindays LIMIT 5\").show()"
   ]
  },
  {
   "cell_type": "code",
   "execution_count": null,
   "id": "fc25f438-1478-46f3-8fc1-4324b7945ee6",
   "metadata": {},
   "outputs": [],
   "source": [
    "inputs = 'gs://{}/flights/tzcorr/all_flights-00000-*'.format(BUCKET)"
   ]
  },
  {
   "cell_type": "code",
   "execution_count": null,
   "id": "cef7ce68-7a3f-4703-bb89-c007398847df",
   "metadata": {},
   "outputs": [],
   "source": [
    "flights = spark.read.json(inputs)\n",
    "flights.createOrReplaceTempView('flights')"
   ]
  },
  {
   "cell_type": "code",
   "execution_count": null,
   "id": "48b9daf7-d9e1-4a03-bdf2-2b2d1f777736",
   "metadata": {},
   "outputs": [],
   "source": [
    "trainquery = \"\"\"\n",
    "SELECT\n",
    "  DEP_DELAY, TAXI_OUT, ARR_DELAY, DISTANCE\n",
    "FROM flights f\n",
    "JOIN traindays t\n",
    "ON f.FL_DATE == t.FL_DATE\n",
    "WHERE\n",
    "  t.is_train_day == 'True'\n",
    "\"\"\"\n",
    "traindata = spark.sql(trainquery)"
   ]
  },
  {
   "cell_type": "code",
   "execution_count": null,
   "id": "6a9dffd1-d289-4b4a-a036-073d74566725",
   "metadata": {},
   "outputs": [],
   "source": [
    "print(traindata.head(2))"
   ]
  },
  {
   "cell_type": "code",
   "execution_count": null,
   "id": "88100452-574a-4587-87e9-29fedf3e19a1",
   "metadata": {},
   "outputs": [],
   "source": [
    "traindata.describe().show()"
   ]
  },
  {
   "cell_type": "code",
   "execution_count": null,
   "id": "2a6aed8d-73fc-4e70-a907-f4591874f4df",
   "metadata": {},
   "outputs": [],
   "source": [
    "trainquery = \"\"\"\n",
    "SELECT\n",
    "DEP_DELAY, TAXI_OUT, ARR_DELAY, DISTANCE\n",
    "FROM flights f\n",
    "JOIN traindays t\n",
    "ON f.FL_DATE == t.FL_DATE\n",
    "WHERE\n",
    "t.is_train_day == 'True' AND\n",
    "f.dep_delay IS NOT NULL AND \n",
    "f.arr_delay IS NOT NULL\n",
    "\"\"\"\n",
    "traindata = spark.sql(trainquery)\n",
    "traindata.describe().show()"
   ]
  },
  {
   "cell_type": "code",
   "execution_count": null,
   "id": "040fd00b-3b6d-492d-a98d-06f92083b286",
   "metadata": {},
   "outputs": [],
   "source": [
    "trainquery = \"\"\"\n",
    "SELECT\n",
    "  DEP_DELAY, TAXI_OUT, ARR_DELAY, DISTANCE\n",
    "FROM flights f\n",
    "JOIN traindays t\n",
    "ON f.FL_DATE == t.FL_DATE\n",
    "WHERE\n",
    "  t.is_train_day == 'True' AND\n",
    "  f.CANCELLED == 'False' AND \n",
    "  f.DIVERTED == 'False'\n",
    "\"\"\"\n",
    "traindata = spark.sql(trainquery)\n",
    "traindata.describe().show()"
   ]
  },
  {
   "cell_type": "code",
   "execution_count": null,
   "id": "21a4ed37-4492-4255-a7c6-0cec993aa739",
   "metadata": {},
   "outputs": [],
   "source": [
    "def to_example(fields):\n",
    "    return LabeledPoint(\\\n",
    "              float(fields['ARR_DELAY'] < 15), #ontime? \\\n",
    "              [ \\\n",
    "                  fields['DEP_DELAY'], \\\n",
    "                  fields['TAXI_OUT'],  \\\n",
    "                  fields['DISTANCE'],  \\\n",
    "              ])"
   ]
  }
 ],
 "metadata": {
  "kernelspec": {
   "display_name": "Python 3",
   "language": "python",
   "name": "python3"
  },
  "language_info": {
   "codemirror_mode": {
    "name": "ipython",
    "version": 3
   },
   "file_extension": ".py",
   "mimetype": "text/x-python",
   "name": "python",
   "nbconvert_exporter": "python",
   "pygments_lexer": "ipython3",
   "version": "3.8.15"
  }
 },
 "nbformat": 4,
 "nbformat_minor": 5
}